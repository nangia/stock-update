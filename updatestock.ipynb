{
 "cells": [
  {
   "cell_type": "code",
   "execution_count": 94,
   "id": "52088b7a",
   "metadata": {},
   "outputs": [],
   "source": [
    "import pandas as pd\n",
    "import numpy as np\n",
    "import datetime\n",
    "import pytz\n",
    "import os\n",
    "\n",
    "debug = False"
   ]
  },
  {
   "cell_type": "code",
   "execution_count": 95,
   "id": "d3def7d1-e1d6-4724-9189-2fdd29725fc2",
   "metadata": {},
   "outputs": [
    {
     "name": "stdout",
     "output_type": "stream",
     "text": [
      "NOT in Colab\n"
     ]
    }
   ],
   "source": [
    "if os.getenv(\"COLAB_RELEASE_TAG\"):\n",
    "    google_colab = True\n",
    "    print(\"Running in Colab\")\n",
    "    folder_path = '/content/drive/MyDrive/stock'\n",
    "    from google.colab import drive\n",
    "    drive.mount('/content/drive')\n",
    "else:\n",
    "    google_colab = False\n",
    "    print(\"NOT in Colab\")\n",
    "    folder_path = \".\"\n"
   ]
  },
  {
   "cell_type": "code",
   "execution_count": 96,
   "id": "22947570",
   "metadata": {},
   "outputs": [],
   "source": [
    "# Modify the name of the picklist file as per actuals\n",
    "transfer_file = f'{folder_path}/the-new-picklist.xlsx'\n",
    "volume_file = f\"{folder_path}/volumes.xlsx\"\n",
    "# modify result file, if required\n",
    "current_time = datetime.datetime.now(pytz.timezone('Asia/Kolkata')) \n",
    "the_date = current_time.strftime(\"%Y-%m-%d-%H-%M-%S\")\n",
    "\n",
    "stock_file = f\"{folder_path}/{the_date}-Stock-Status.xlsx\"\n",
    "debug_file = f\"{folder_path}/{the_date}-Debug.xlsx\""
   ]
  },
  {
   "cell_type": "code",
   "execution_count": 97,
   "id": "9a11799e",
   "metadata": {},
   "outputs": [],
   "source": [
    "opening_file_sheet = \"opening\"\n",
    "transfer_file_sheet = \"transfers\"\n",
    "picked_file_sheet = \"picked\"\n",
    "placed_file_sheet = \"placed\"\n",
    "\n",
    "almirah_file_sheet = \"Almirahs\"\n",
    "book_file_sheet = \"Books\""
   ]
  },
  {
   "cell_type": "code",
   "execution_count": 98,
   "id": "e49f948d",
   "metadata": {},
   "outputs": [],
   "source": [
    "opening = pd.read_excel (transfer_file, sheet_name=opening_file_sheet, \n",
    "                              converters={'BookCode' : str, 'Number': int, 'FromAlmirah': str, \n",
    "                                                     'FromRack': int, 'ToAlmirah': str, 'ToRack':int,\n",
    "                                                     'Comments' : str}, parse_dates = ['PickListDate'])\n",
    "transfer = pd.read_excel (transfer_file, sheet_name=transfer_file_sheet, \n",
    "                          converters={'BookCode' : str, 'Number': int, 'FromAlmirah': str, \n",
    "                                                     'FromRack': int, 'ToAlmirah': str, 'ToRack':int,\n",
    "                                                     'Comments' : str}, parse_dates = ['PickListDate'])\n",
    "pickup = pd.read_excel (transfer_file, sheet_name=picked_file_sheet, \n",
    "                          converters={'BookCode' : str, 'Number': int, 'FromAlmirah': str, \n",
    "                                                     'FromRack': int, 'ToAlmirah': str, 'ToRack':int,\n",
    "                                                     'Comments' : str}, parse_dates = ['PickListDate'])\n",
    "deposit = pd.read_excel (transfer_file, sheet_name=placed_file_sheet, \n",
    "                          converters={'BookCode' : str, 'Number': int, 'FromAlmirah': str, \n",
    "                                                     'FromRack': int, 'ToAlmirah': str, 'ToRack':int,\n",
    "                                                     'Comments' : str}, parse_dates = ['PickListDate'])\n",
    "almirah_bins_dimensions = pd.read_excel (volume_file, sheet_name=almirah_file_sheet,\n",
    "                                         converters={'Almirah' : str, 'RackNumber': int, 'Height': float, \n",
    "                                                     'Length': float, 'Depth': float})\n",
    "\n",
    "almirah_bins_dimensions.rename(columns={\"RackNumber\": \"Rack\"}, inplace=True)\n",
    "book_dimensions = pd.read_excel (volume_file, sheet_name=book_file_sheet, \n",
    "                                 converters={'BookCode' : str, 'Height': int, 'Length': float, \n",
    "                                             'Depth': float, 'Number': int})"
   ]
  },
  {
   "cell_type": "code",
   "execution_count": 99,
   "id": "9094efef-5c5c-44e0-92f9-7483ad53193d",
   "metadata": {},
   "outputs": [],
   "source": [
    "almirah_bins_dimensions = almirah_bins_dimensions.filter(['Almirah', 'Rack', 'Height', 'Length', 'Depth'])\n",
    "almirah_bins_dimensions['Volume'] = almirah_bins_dimensions['Height'] * almirah_bins_dimensions['Length'] * almirah_bins_dimensions['Depth']"
   ]
  },
  {
   "cell_type": "code",
   "execution_count": 100,
   "id": "410fc43b",
   "metadata": {},
   "outputs": [],
   "source": [
    "n_opening = opening[['ToAlmirah', 'ToRack', 'BookCode', 'Number']].copy(deep=True)\n",
    "n_opening.rename(columns = {'ToAlmirah':'Almirah', 'ToRack':'Rack'}, inplace = True)\n",
    "n_opening.dropna(axis=0, how='any', subset=['Almirah', 'Rack'], inplace=True)"
   ]
  },
  {
   "cell_type": "code",
   "execution_count": 101,
   "id": "7a6c60e7",
   "metadata": {},
   "outputs": [],
   "source": [
    "n_tpickup = transfer[['FromAlmirah', 'FromRack', 'BookCode', 'Number']].copy(deep=True)\n",
    "n_tpickup['PickedNumber'] = - n_tpickup['Number']\n",
    "n_tpickup.drop('Number', axis=1, inplace=True)\n",
    "n_tpickup.rename(columns = {'FromAlmirah':'Almirah', 'FromRack':'Rack', 'PickedNumber' : 'Number'}, inplace = True)\n",
    "n_tpickup.dropna(axis=0, how='any', subset=['Almirah', 'Rack'], inplace=True)"
   ]
  },
  {
   "cell_type": "code",
   "execution_count": 102,
   "id": "4d25a49a",
   "metadata": {},
   "outputs": [],
   "source": [
    "n_tdeposit = transfer[['ToAlmirah', 'ToRack', 'BookCode', 'Number']].copy(deep=True)\n",
    "n_tdeposit.rename(columns = {'ToAlmirah':'Almirah', 'ToRack':'Rack'}, inplace = True)\n",
    "n_tdeposit.dropna(axis=0, how='any', subset=['Almirah', 'Rack'], inplace=True)"
   ]
  },
  {
   "cell_type": "code",
   "execution_count": 103,
   "id": "90710620",
   "metadata": {},
   "outputs": [],
   "source": [
    "n_pure_deposit = deposit[['ToAlmirah', 'ToRack', 'BookCode', 'Number']].copy(deep=True)\n",
    "n_pure_deposit.rename(columns = {'ToAlmirah':'Almirah', 'ToRack':'Rack'}, inplace = True)\n",
    "n_pure_deposit.dropna(axis=0, how='any', subset=['Almirah', 'Rack'], inplace=True)"
   ]
  },
  {
   "cell_type": "code",
   "execution_count": 104,
   "id": "b99aa35f",
   "metadata": {},
   "outputs": [],
   "source": [
    "n_pure_pickup = pickup[['FromAlmirah', 'FromRack', 'BookCode', 'Number']].copy(deep=True)\n",
    "n_pure_pickup['PickedNumber'] = - n_pure_pickup['Number']\n",
    "n_pure_pickup.drop('Number', axis=1, inplace=True)\n",
    "n_pure_pickup.rename(columns = {'FromAlmirah':'Almirah', 'FromRack':'Rack', 'PickedNumber' : 'Number'}, \n",
    "                     inplace = True)\n",
    "n_pure_pickup.dropna(axis=0, how='any', subset=['Almirah', 'Rack'], inplace=True)"
   ]
  },
  {
   "cell_type": "code",
   "execution_count": 105,
   "id": "9549842c",
   "metadata": {},
   "outputs": [],
   "source": [
    "updatedloc = pd.concat([n_opening, n_tpickup, n_tdeposit, n_pure_pickup, n_pure_deposit], ignore_index=True)"
   ]
  },
  {
   "cell_type": "code",
   "execution_count": 106,
   "id": "06e2a6d6",
   "metadata": {},
   "outputs": [],
   "source": [
    "# this cell is only for debug purposes\n",
    "if debug:\n",
    "    with pd.ExcelWriter(debug_file) as writer:  \n",
    "        n_opening.to_excel(writer, sheet_name='Opening')\n",
    "        n_tpickup.to_excel(writer, sheet_name='TransferPickup')\n",
    "        n_tdeposit.to_excel(writer, sheet_name='TransferDeposit')\n",
    "        n_pure_deposit.to_excel(writer, sheet_name='PureDeposit')\n",
    "        n_pure_pickup.to_excel(writer, sheet_name='PurePickup')\n",
    "        updatedloc.to_excel(writer, sheet_name='UpdatedLoc')"
   ]
  },
  {
   "cell_type": "code",
   "execution_count": 107,
   "id": "50d9faaf",
   "metadata": {},
   "outputs": [],
   "source": [
    "updated_report = pd.pivot_table(updatedloc, values='Number', \n",
    "                                index=['Almirah', 'Rack', 'BookCode'], \n",
    "                                aggfunc=np.sum)\n",
    "updated_report.reset_index(inplace=True)\n",
    "updated_locations_filtered = updated_report[updated_report['Number'] != 0]\n",
    "\n",
    "# Bookwise sorting\n",
    "picklist_sheet = updated_locations_filtered.sort_values(by=['BookCode', 'Number', \"Almirah\", \"Rack\"])\n",
    "# almirah wise sorting\n",
    "almirah_sheet = updated_locations_filtered.sort_values(by=[\"Almirah\", \"Rack\", 'BookCode', 'Number'])\n"
   ]
  },
  {
   "cell_type": "code",
   "execution_count": 108,
   "id": "27b2a1a6",
   "metadata": {},
   "outputs": [],
   "source": [
    "stock_summary = pd.pivot_table(updated_locations_filtered, values='Number', index=['BookCode'], aggfunc=np.sum)\n",
    "stock_summary.sort_values(by=['BookCode'], inplace=True)"
   ]
  },
  {
   "cell_type": "code",
   "execution_count": 109,
   "id": "2bbeb193",
   "metadata": {},
   "outputs": [],
   "source": [
    "volume_sheet = pd.merge(almirah_sheet, book_dimensions, how='left', on='BookCode')\n",
    "volume_sheet['Volume'] = volume_sheet['Number_x'] * volume_sheet['Height'] *  volume_sheet['Width'] *  volume_sheet['Depth'] /  volume_sheet['Number_y'] \n",
    "volume_sheet = volume_sheet.filter(['Almirah', 'Rack', 'BookCode', 'Volume'])\n",
    "volume_sheet.rename(columns = {'Volume':'OccupiedBookVolume'}, inplace = True)\n",
    "volume_sheet_summary = pd.pivot_table(volume_sheet, values='OccupiedBookVolume', index=['Almirah', 'Rack'], aggfunc=np.sum)\n",
    "volume_sheet_summary.reset_index(inplace=True)"
   ]
  },
  {
   "cell_type": "code",
   "execution_count": 110,
   "id": "ec0cd28b-59e1-4dfe-b3cf-dd3a4b00d1e5",
   "metadata": {},
   "outputs": [],
   "source": [
    "volume_report = pd.merge(volume_sheet_summary, almirah_bins_dimensions, how='left', on=['Almirah', 'Rack'])\n",
    "volume_report['FractionOccupied'] = volume_report['OccupiedBookVolume']/volume_report['Volume']\n",
    "volume_report['AvailableVolume'] = volume_report['Volume'] - volume_report['OccupiedBookVolume']\n",
    "volume_report.drop(columns=['Height', 'Length', 'Depth'])\n",
    "volume_report.sort_values(by=[\"Almirah\", \"Rack\"], inplace=True)\n",
    "volume_report_by_available = volume_report.sort_values(by=\"AvailableVolume\", ascending=False)"
   ]
  },
  {
   "cell_type": "code",
   "execution_count": 111,
   "id": "a9ad420c-55f8-436f-a2b9-61bc7749652b",
   "metadata": {},
   "outputs": [
    {
     "name": "stdout",
     "output_type": "stream",
     "text": [
      "Result written to ./2023-09-09-17-10-33-Stock-Status.xlsx\n"
     ]
    }
   ],
   "source": [
    "# Write down final results\n",
    "with pd.ExcelWriter(stock_file) as writer:  \n",
    "    almirah_sheet.to_excel(writer, sheet_name='AlmirahRack')\n",
    "    picklist_sheet.to_excel(writer, sheet_name='PicklistMaker')\n",
    "    stock_summary.to_excel(writer, sheet_name='StockSummary')\n",
    "    volume_report.to_excel(writer, sheet_name='VolumeReport')\n",
    "    volume_report_by_available.to_excel(writer, sheet_name='VolumeAvailable')\n",
    "print(f\"Result written to {stock_file}\")"
   ]
  },
  {
   "cell_type": "code",
   "execution_count": 112,
   "id": "736521dd-9fb9-49a4-8e2d-41b19e034ae6",
   "metadata": {},
   "outputs": [],
   "source": [
    "if google_colab:\n",
    "    drive.flush_and_unmount()"
   ]
  }
 ],
 "metadata": {
  "kernelspec": {
   "display_name": "Python 3 (ipykernel)",
   "language": "python",
   "name": "python3"
  },
  "language_info": {
   "codemirror_mode": {
    "name": "ipython",
    "version": 3
   },
   "file_extension": ".py",
   "mimetype": "text/x-python",
   "name": "python",
   "nbconvert_exporter": "python",
   "pygments_lexer": "ipython3",
   "version": "3.9.17"
  }
 },
 "nbformat": 4,
 "nbformat_minor": 5
}
