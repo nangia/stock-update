{
  "nbformat": 4,
  "nbformat_minor": 0,
  "metadata": {
    "colab": {
      "provenance": []
    },
    "kernelspec": {
      "name": "python3",
      "display_name": "Python 3"
    },
    "language_info": {
      "name": "python"
    }
  },
  "cells": [
    {
      "cell_type": "code",
      "execution_count": 68,
      "metadata": {
        "id": "o1hjSWmhgVtS"
      },
      "outputs": [],
      "source": [
        "import pandas as pd\n",
        "import numpy as np\n",
        "import datetime\n",
        "import pytz"
      ]
    },
    {
      "cell_type": "code",
      "source": [
        "from google.colab import drive\n",
        "drive.mount('/content/drive')\n",
        "\n",
        "debug = False "
      ],
      "metadata": {
        "colab": {
          "base_uri": "https://localhost:8080/"
        },
        "id": "zeZUe9wchC1o",
        "outputId": "a19fdaef-f6f4-4045-f9db-8543121609bf"
      },
      "execution_count": 69,
      "outputs": [
        {
          "output_type": "stream",
          "name": "stdout",
          "text": [
            "Mounted at /content/drive\n"
          ]
        }
      ]
    },
    {
      "cell_type": "code",
      "source": [
        "# Modify the name of the picklist file as per actuals\n",
        "folder_path = '/content/drive/MyDrive/stock'\n",
        "transfer_file = f'{folder_path}/the-new-picklist.xlsx'\n",
        "\n",
        "# modify result file, if required\n",
        "current_time = datetime.datetime.now(pytz.timezone('Asia/Kolkata')) \n",
        "the_date = current_time.strftime(\"%Y-%m-%d-%H-%M-%S\")\n",
        "\n",
        "stock_file = f\"{folder_path}/{the_date}-Stock-Status.xlsx\"\n",
        "debug_file = f\"{folder_path}/{the_date}-Debug.xlsx\""
      ],
      "metadata": {
        "id": "AisiFgVfgWln"
      },
      "execution_count": 70,
      "outputs": []
    },
    {
      "cell_type": "code",
      "source": [
        "opening_file_sheet = \"opening\"\n",
        "transfer_file_sheet = \"transfers\"\n",
        "picked_file_sheet = \"picked\"\n",
        "placed_file_sheet = \"placed\""
      ],
      "metadata": {
        "id": "CayMMcFtgYxf"
      },
      "execution_count": 71,
      "outputs": []
    },
    {
      "cell_type": "code",
      "source": [
        "converter_dic = {'BookCode' : str, 'Number': int, 'FromAlmirah': str, \n",
        "                 'FromRack': int, 'ToAlmirah': str, 'ToRack':int, \n",
        "                 'Comments' : str}\n",
        "\n",
        "opening = pd.read_excel(transfer_file, sheet_name=opening_file_sheet,                        \n",
        "                         converters=converter_dic, \n",
        "                         parse_dates = ['PickListDate'])\n",
        "transfer = pd.read_excel(transfer_file, sheet_name=transfer_file_sheet, \n",
        "                         converters=converter_dic, \n",
        "                         parse_dates = ['PickListDate'])\n",
        "pickup = pd.read_excel(transfer_file, sheet_name=picked_file_sheet, \n",
        "                        converters=converter_dic, \n",
        "                        parse_dates = ['PickListDate'])\n",
        "deposit = pd.read_excel(transfer_file, sheet_name=placed_file_sheet, \n",
        "                        converters=converter_dic, \n",
        "                        parse_dates = ['PickListDate'])\n",
        "\n"
      ],
      "metadata": {
        "id": "mg02RGbQgarJ"
      },
      "execution_count": 72,
      "outputs": []
    },
    {
      "cell_type": "code",
      "source": [
        "n_opening = opening[['ToAlmirah', 'ToRack', 'BookCode', 'Number']].copy(deep=True)\n",
        "n_opening.rename(columns = {'ToAlmirah':'Almirah', 'ToRack':'Rack'}, inplace = True)\n",
        "n_opening.dropna(axis=0, how='any', subset=['Almirah', 'Rack'], inplace=True)"
      ],
      "metadata": {
        "id": "nhxpJU2Agc4f"
      },
      "execution_count": 73,
      "outputs": []
    },
    {
      "cell_type": "code",
      "source": [
        "n_tpickup = transfer[['FromAlmirah', 'FromRack', 'BookCode', 'Number']].copy(deep=True)\n",
        "n_tpickup['PickedNumber'] = - n_tpickup['Number']\n",
        "n_tpickup.drop('Number', axis=1, inplace=True)\n",
        "n_tpickup.rename(columns = {'FromAlmirah':'Almirah', 'FromRack':'Rack', \n",
        "                            'PickedNumber' : 'Number'}, inplace = True)\n",
        "n_tpickup.dropna(axis=0, how='any', subset=['Almirah', 'Rack'], inplace=True)"
      ],
      "metadata": {
        "id": "TySyRFuSggWB"
      },
      "execution_count": 74,
      "outputs": []
    },
    {
      "cell_type": "code",
      "source": [
        "n_tdeposit = transfer[['ToAlmirah', 'ToRack', 'BookCode', 'Number']].copy(deep=True)\n",
        "n_tdeposit.rename(columns = {'ToAlmirah':'Almirah', 'ToRack':'Rack'}, inplace = True)\n",
        "n_tdeposit.dropna(axis=0, how='any', subset=['Almirah', 'Rack'], inplace=True)"
      ],
      "metadata": {
        "id": "-bj-oRxEgh5H"
      },
      "execution_count": 75,
      "outputs": []
    },
    {
      "cell_type": "code",
      "source": [
        "n_pure_deposit = deposit[['ToAlmirah', 'ToRack', 'BookCode', 'Number']].copy(deep=True)\n",
        "n_pure_deposit.rename(columns = {'ToAlmirah':'Almirah', 'ToRack':'Rack'}, inplace = True)\n",
        "n_pure_deposit.dropna(axis=0, how='any', subset=['Almirah', 'Rack'], inplace=True)"
      ],
      "metadata": {
        "id": "vqp8pYnvgji6"
      },
      "execution_count": 76,
      "outputs": []
    },
    {
      "cell_type": "code",
      "source": [
        "n_pure_pickup = pickup[['FromAlmirah', 'FromRack', 'BookCode', 'Number']].copy(deep=True)\n",
        "n_pure_pickup['PickedNumber'] = - n_pure_pickup['Number']\n",
        "n_pure_pickup.drop('Number', axis=1, inplace=True)\n",
        "n_pure_pickup.rename(columns = {'FromAlmirah':'Almirah', 'FromRack':'Rack', \n",
        "                                'PickedNumber' : 'Number'}, \n",
        "                     inplace = True)\n",
        "n_pure_pickup.dropna(axis=0, how='any', subset=['Almirah', 'Rack'], inplace=True)"
      ],
      "metadata": {
        "id": "vvbBfEb7glO9"
      },
      "execution_count": 77,
      "outputs": []
    },
    {
      "cell_type": "code",
      "source": [
        "updatedloc = pd.concat([n_opening, n_tpickup, n_tdeposit, \n",
        "                        n_pure_pickup, n_pure_deposit], ignore_index=True)"
      ],
      "metadata": {
        "id": "CZTP1JPJgnf-"
      },
      "execution_count": 78,
      "outputs": []
    },
    {
      "cell_type": "code",
      "source": [
        "# this cell is only for debug purposes\n",
        "if debug:\n",
        "  with pd.ExcelWriter(debug_file) as writer:  \n",
        "    n_opening.to_excel(writer, sheet_name='Opening')\n",
        "    n_tpickup.to_excel(writer, sheet_name='TransferPickup')\n",
        "    n_tdeposit.to_excel(writer, sheet_name='TransferDeposit')\n",
        "    n_pure_deposit.to_excel(writer, sheet_name='PureDeposit')\n",
        "    n_pure_pickup.to_excel(writer, sheet_name='PurePickup')\n",
        "    updatedloc.to_excel(writer, sheet_name='UpdatedLoc')"
      ],
      "metadata": {
        "id": "RWNgZ9gIgroD"
      },
      "execution_count": 79,
      "outputs": []
    },
    {
      "cell_type": "code",
      "source": [
        "updated_report = pd.pivot_table(updatedloc, values='Number', \n",
        "                                index=['Almirah', 'Rack', 'BookCode'], \n",
        "                                aggfunc=np.sum)\n",
        "\n",
        "updated_report.reset_index(inplace=True)\n",
        "updated_locations_filtered = updated_report[updated_report['Number'] != 0]\n",
        "\n",
        "# Bookwise sorting\n",
        "picklist_sheet = updated_locations_filtered.sort_values(by=['BookCode', 'Number', \n",
        "                                                            \"Almirah\", \"Rack\"])\n",
        "# almirah wise sorting\n",
        "almirah_sheet = updated_locations_filtered.sort_values(by=[\"Almirah\", \"Rack\", \n",
        "                                                           'BookCode', 'Number'])"
      ],
      "metadata": {
        "id": "58DWS40Rgt4H"
      },
      "execution_count": 80,
      "outputs": []
    },
    {
      "cell_type": "code",
      "source": [
        "stock_summary = pd.pivot_table(updated_locations_filtered, values='Number', \n",
        "                               index=['BookCode'], aggfunc=np.sum)\n",
        "stock_summary.sort_values(by=['BookCode'], inplace=True)"
      ],
      "metadata": {
        "id": "oJbN6j56gvWD"
      },
      "execution_count": 81,
      "outputs": []
    },
    {
      "cell_type": "code",
      "source": [
        "# Write down final results\n",
        "with pd.ExcelWriter(stock_file) as writer:  \n",
        "    almirah_sheet.to_excel(writer, sheet_name='AlmirahRack')\n",
        "    picklist_sheet.to_excel(writer, sheet_name='PicklistMaker')\n",
        "    stock_summary.to_excel(writer, sheet_name='StockSummary')"
      ],
      "metadata": {
        "id": "oQHL8-gNgw4f"
      },
      "execution_count": 82,
      "outputs": []
    },
    {
      "cell_type": "code",
      "source": [
        "print(f\"Result written to {stock_file}\")"
      ],
      "metadata": {
        "colab": {
          "base_uri": "https://localhost:8080/"
        },
        "id": "-xByeQrGgzBx",
        "outputId": "3669a316-caee-4bbf-ad46-0ff8fb224f5e"
      },
      "execution_count": 83,
      "outputs": [
        {
          "output_type": "stream",
          "name": "stdout",
          "text": [
            "Result written to /content/drive/MyDrive/stock/2023-06-01-17-17-43-Stock-Status.xlsx\n"
          ]
        }
      ]
    },
    {
      "cell_type": "code",
      "source": [
        "drive.flush_and_unmount()"
      ],
      "metadata": {
        "id": "n6nDApv_g_vF"
      },
      "execution_count": 84,
      "outputs": []
    }
  ]
}